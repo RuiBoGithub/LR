{
 "cells": [
  {
   "cell_type": "code",
   "execution_count": null,
   "id": "295cab09",
   "metadata": {},
   "outputs": [],
   "source": []
  },
  {
   "cell_type": "code",
   "execution_count": 1,
   "id": "71d8dce9",
   "metadata": {},
   "outputs": [
    {
     "name": "stdout",
     "output_type": "stream",
     "text": [
      "Copied: 10.1016_j.apenergy.2019.113920.json\n",
      "Copied: 10.1016_j.apenergy.2020.115147.json\n",
      "Copied: 10.1016_j.apenergy.2020.115426.json\n",
      "Copied: 10.1016_j.apenergy.2021.117276.json\n",
      "Copied: 10.1016_j.apenergy.2021.117987.json\n",
      "Copied: 10.1016_j.apenergy.2022.119580.json\n",
      "Copied: 10.1016_j.buildenv.2020.107089.json\n",
      "Copied: 10.1016_j.enbuild.2020.109792.json\n",
      "Copied: 10.1016_j.enbuild.2020.110271.json\n",
      "Copied: 10.1016_j.enbuild.2020.110276.json\n",
      "Copied: 10.1016_j.enbuild.2021.111255.json\n",
      "Copied: 10.1016_j.enbuild.2023.113747.json\n",
      "Copied: 10.1016_j.enbuild.2024.114215.json\n",
      "Copied: 10.1016_j.jobe.2022.104498.json\n"
     ]
    }
   ],
   "source": [
    "import shutil\n",
    "import os\n",
    "\n",
    "# source and destination folders\n",
    "src_folder = \"papers_json\"\n",
    "dst_folder = \"papers_json_mini\"   # change to \"210\" if that's your actual folder name\n",
    "\n",
    "# list of files you want to fetch\n",
    "files_to_copy = [\n",
    "    \"10.1016_j.apenergy.2019.113920.json\",\n",
    "    \"10.1016_j.apenergy.2020.115147.json\",\n",
    "    \"10.1016_j.apenergy.2020.115426.json\",\n",
    "    \"10.1016_j.apenergy.2021.117276.json\",\n",
    "    \"10.1016_j.apenergy.2021.117987.json\",\n",
    "    \"10.1016_j.apenergy.2022.119580.json\",\n",
    "    \"10.1016_j.buildenv.2020.107089.json\",\n",
    "    \"10.1016_j.enbuild.2020.109792.json\",\n",
    "    \"10.1016_j.enbuild.2020.110271.json\",\n",
    "    \"10.1016_j.enbuild.2020.110276.json\",\n",
    "    \"10.1016_j.enbuild.2021.111255.json\",\n",
    "    \"10.1016_j.enbuild.2023.113747.json\",\n",
    "    \"10.1016_j.enbuild.2024.114215.json\",\n",
    "    \"10.1016_j.jobe.2022.104498.json\",\n",
    "]\n",
    "\n",
    "# make sure destination exists\n",
    "os.makedirs(dst_folder, exist_ok=True)\n",
    "\n",
    "# copy each file\n",
    "for filename in files_to_copy:\n",
    "    src_path = os.path.join(src_folder, filename)\n",
    "    dst_path = os.path.join(dst_folder, filename)\n",
    "    if os.path.exists(src_path):\n",
    "        shutil.copy2(src_path, dst_path)\n",
    "        print(f\"Copied: {filename}\")\n",
    "    else:\n",
    "        print(f\"Not found: {filename}\")\n"
   ]
  }
 ],
 "metadata": {
  "kernelspec": {
   "display_name": "eplus_env",
   "language": "python",
   "name": "python3"
  },
  "language_info": {
   "codemirror_mode": {
    "name": "ipython",
    "version": 3
   },
   "file_extension": ".py",
   "mimetype": "text/x-python",
   "name": "python",
   "nbconvert_exporter": "python",
   "pygments_lexer": "ipython3",
   "version": "3.10.17"
  }
 },
 "nbformat": 4,
 "nbformat_minor": 5
}
