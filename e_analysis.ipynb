{
 "cells": [
  {
   "cell_type": "code",
   "execution_count": 3,
   "id": "8833edd3",
   "metadata": {},
   "outputs": [],
   "source": [
    "import pandas as pd\n",
    "from pathlib import Path\n",
    "import numpy as np\n",
    "\n",
    "# Paths\n",
    "df1_path = r\"nlp_output\\classified_.csv\"\n",
    "df2_path = r\"csv_output\\300_manually_filtered\\_final.csv\"\n",
    "\n",
    "# Load\n",
    "df1 = pd.read_csv(df1_path)\n",
    "df2 = pd.read_csv(df2_path)\n",
    "\n",
    "# Normalize (vectorized)\n",
    "df1[\"doi_norm\"] = (\n",
    "    df1[\"file\"].astype(str).str.strip().str.lower()\n",
    "       .str.replace(r\"\\.json$\", \"\", regex=True)\n",
    "       .str.replace(\"_\", \"/\", n=1)\n",
    ")\n",
    "df2[\"doi_norm\"] = df2[\"DOI\"].astype(str).str.strip().str.lower()\n",
    "\n",
    "# Merge + flags\n",
    "merged = df1.merge(df2, on=\"doi_norm\", how=\"outer\", suffixes=(\"_csv1\",\"_csv2\"))\n",
    "merged[\"in_csv1\"] = merged[\"file\"].notna()\n",
    "merged[\"in_csv2\"] = merged[\"DOI\"].notna()\n",
    "merged[\"match_type\"] = np.select(\n",
    "    [merged[\"in_csv1\"] & merged[\"in_csv2\"], merged[\"in_csv1\"], merged[\"in_csv2\"]],\n",
    "    [\"both\", \"csv1_only\", \"csv2_only\"]\n",
    ")\n",
    "\n",
    "# Subsets\n",
    "matching_query = merged[merged[\"match_type\"] == \"both\"]\n",
    "only_in_csv1  = merged[merged[\"match_type\"] == \"csv1_only\"]\n",
    "only_in_csv2  = merged[merged[\"match_type\"] == \"csv2_only\"]\n",
    "\n",
    "# Save near df1 with suffixes\n",
    "p1 = Path(df1_path); out_dir, base, ext = p1.parent, p1.stem, p1.suffix\n",
    "matching_query.to_csv(out_dir / f\"{base}matching{ext}\", index=False)\n",
    "\n",
    "if not only_in_csv1.empty:\n",
    "    print(\"\\nRows only in CSV1:\")\n",
    "    print(only_in_csv1)\n",
    "    only_in_csv1.to_csv(out_dir / f\"{base}_only_in_csv1{ext}\", index=False)\n",
    "\n",
    "if not only_in_csv2.empty:\n",
    "    print(\"\\nRows only in CSV2:\")\n",
    "    print(only_in_csv2)\n",
    "    only_in_csv2.to_csv(out_dir / f\"{base}_only_in_csv2{ext}\", index=False)"
   ]
  }
 ],
 "metadata": {
  "kernelspec": {
   "display_name": "eplus_env",
   "language": "python",
   "name": "python3"
  },
  "language_info": {
   "codemirror_mode": {
    "name": "ipython",
    "version": 3
   },
   "file_extension": ".py",
   "mimetype": "text/x-python",
   "name": "python",
   "nbconvert_exporter": "python",
   "pygments_lexer": "ipython3",
   "version": "3.10.17"
  }
 },
 "nbformat": 4,
 "nbformat_minor": 5
}
