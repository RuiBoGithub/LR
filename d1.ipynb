{
 "cells": [
  {
   "cell_type": "markdown",
   "id": "197bd78f",
   "metadata": {
    "vscode": {
     "languageId": "plaintext"
    }
   },
   "source": [
    "### Research Questions:\n",
    "\n",
    "1. What models are used to identify and reduce building energy waste, and what are their types (physics-based, data-driven, or hybrid) and scales (whole building, system level, or boundary conditions such as occupancy and weather)?\n",
    "\n",
    "2. What data are required to develop and apply these models for identifying and reducing building energy waste?\n",
    "\n",
    "---\n",
    "Model <--> Data"
   ]
  },
  {
   "cell_type": "markdown",
   "id": "25398d4f",
   "metadata": {},
   "source": [
    "python d1_classifier.py --input_dir papers_json --ontology archives/ontology.yaml --model word2vec.model --output_csv NLP-output/focused_papers.csv --output_json NLP-output/evidence.json --jobs 8\n"
   ]
  },
  {
   "cell_type": "markdown",
   "id": "755467b7",
   "metadata": {},
   "source": []
  },
  {
   "cell_type": "code",
   "execution_count": null,
   "id": "066cef09",
   "metadata": {},
   "outputs": [],
   "source": []
  }
 ],
 "metadata": {
  "kernelspec": {
   "display_name": "eplus_env",
   "language": "python",
   "name": "python3"
  },
  "language_info": {
   "codemirror_mode": {
    "name": "ipython",
    "version": 3
   },
   "file_extension": ".py",
   "mimetype": "text/x-python",
   "name": "python",
   "nbconvert_exporter": "python",
   "pygments_lexer": "ipython3",
   "version": "3.10.4"
  }
 },
 "nbformat": 4,
 "nbformat_minor": 5
}
