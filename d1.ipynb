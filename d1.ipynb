{
 "cells": [
  {
   "cell_type": "markdown",
   "id": "197bd78f",
   "metadata": {
    "vscode": {
     "languageId": "plaintext"
    }
   },
   "source": [
    "# Background\n",
    "### Research Questions:\n",
    "\n",
    "1. What models are used to identify and reduce building energy waste, of what types (physics-based, data-driven, or hybrid) and at what scales (whole building, system level, or boundary conditions such as occupancy and weather)?\n",
    "\n",
    "2. What data are required to develop and apply these models for identifying and reducing building energy waste?\n",
    "\n",
    "\n",
    "### Discussion:\n",
    "\n",
    "1. What you hope to do ultimately\n"
   ]
  },
  {
   "cell_type": "markdown",
   "id": "ba466e6a",
   "metadata": {
    "vscode": {
     "languageId": "plaintext"
    }
   },
   "source": [
    "# NLP\n",
    "### Code formulation\n",
    "\n"
   ]
  },
  {
   "cell_type": "markdown",
   "id": "ce989708",
   "metadata": {
    "vscode": {
     "languageId": "plaintext"
    }
   },
   "source": [
    "### Run this at CLI"
   ]
  },
  {
   "cell_type": "markdown",
   "id": "25398d4f",
   "metadata": {},
   "source": [
    "```\n",
    "python d1_classifier.py --input_dir elsevier_oupapers_ftrr --ontology archives/ontology.yaml --model word2vec.model --output_csv nlp_output/final/focused_papers.csv --output_json nlp_output/final/evidence.json --jobs 8\n",
    "\n",
    "\n",
    "python bi_classifier.py --input_dir elsevier_out/papers_ftrr --ontology archives/ontology.yaml --model word2vec.model           # optional (enables W2V alias snapping) --anchor_csv nlp_output/anchor_first.csv --model_csv  nlp_output/model_first.csv --excel_out  nlp_output/bidirectional_results.xlsx --context_k 1  --jobs 8\n",
    "\n",
    "\n",
    "```"
   ]
  }
 ],
 "metadata": {
  "kernelspec": {
   "display_name": "eplus_env",
   "language": "python",
   "name": "python3"
  },
  "language_info": {
   "codemirror_mode": {
    "name": "ipython",
    "version": 3
   },
   "file_extension": ".py",
   "mimetype": "text/x-python",
   "name": "python",
   "nbconvert_exporter": "python",
   "pygments_lexer": "ipython3",
   "version": "3.10.4"
  }
 },
 "nbformat": 4,
 "nbformat_minor": 5
}
