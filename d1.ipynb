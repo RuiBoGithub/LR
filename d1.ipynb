{
 "cells": [
  {
   "cell_type": "markdown",
   "id": "197bd78f",
   "metadata": {
    "vscode": {
     "languageId": "plaintext"
    }
   },
   "source": [
    "### Research Questions:\n",
    "\n",
    "* What types of models, and at what scales (whole building level, system level, or boundary conditions such as occupancy and weather), are employed for identifying and reducing energy waste?\n",
    "\n",
    "* What data are required to implement these model-based applications for identifying and reducing energy waste, and how are such data used across applications?\n",
    "\n",
    "---\n",
    "Model <--> Data"
   ]
  },
  {
   "cell_type": "markdown",
   "id": "25398d4f",
   "metadata": {},
   "source": []
  }
 ],
 "metadata": {
  "kernelspec": {
   "display_name": "eplus_env",
   "language": "python",
   "name": "python3"
  },
  "language_info": {
   "codemirror_mode": {
    "name": "ipython",
    "version": 3
   },
   "file_extension": ".py",
   "mimetype": "text/x-python",
   "name": "python",
   "nbconvert_exporter": "python",
   "pygments_lexer": "ipython3",
   "version": "3.10.17"
  }
 },
 "nbformat": 4,
 "nbformat_minor": 5
}
