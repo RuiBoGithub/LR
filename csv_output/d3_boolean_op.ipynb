{
 "cells": [
  {
   "cell_type": "code",
   "execution_count": null,
   "id": "c5f7cb68",
   "metadata": {},
   "outputs": [
    {
     "name": "stdout",
     "output_type": "stream",
     "text": [
      "Added 4 articles from 200_finals/remove-list/1 (1).csv\n",
      "Added 30 articles from 200_finals/remove-list/1 (2).csv\n",
      "Added 6 articles from 200_finals/remove-list/1 (3).csv\n",
      "Added 4 articles from 200_finals/remove-list/1 (4).csv\n",
      "\n",
      "Original: 505 articles\n",
      "Removed: 36 articles\n",
      "Final: 478 articles\n",
      "Saved: 'papers_included_filtered.csv' and 'removed_articles.csv'\n"
     ]
    }
   ],
   "source": [
    "import pandas as pd\n",
    "\n",
    "# Load main article list\n",
    "main_df = pd.read_csv(\"200_finals/papers_included_505.csv\")\n",
    "\n",
    "# Files with articles to remove\n",
    "remove_files = [\n",
    "    \"200_finals/remove-list/1 (1).csv\",\n",
    "    \"200_finals/remove-list/1 (2).csv\", \n",
    "    \"200_finals/remove-list/1 (3).csv\",\n",
    "    \"200_finals/remove-list/1 (4).csv\",\n",
    "]\n",
    "\n",
    "# Collect all articles to remove (with full details)\n",
    "all_remove_articles = []\n",
    "for file in remove_files:\n",
    "    df = pd.read_csv(file)\n",
    "    all_remove_articles.append(df)\n",
    "    print(f\"Added {len(df)} articles from {file}\")\n",
    "\n",
    "# Combine all remove articles\n",
    "remove_df = pd.concat(all_remove_articles)\n",
    "remove_df['DOI'] = remove_df['DOI'].astype(str).str.strip()\n",
    "\n",
    "# Remove duplicates and save remove list\n",
    "remove_df = remove_df.drop_duplicates(subset='DOI')\n",
    "remove_df.to_csv(\"removed_articles.csv\", index=False)\n",
    "\n",
    "# Clean and filter main list\n",
    "main_df['DOI'] = main_df['DOI'].astype(str).str.strip()\n",
    "filtered_df = main_df[~main_df['DOI'].isin(remove_df['DOI'])]\n",
    "\n",
    "# PATCH: Add back mistakenly excluded DOIs\n",
    "misexcluded_dois = [\n",
    "    \"10.1016/j.buildenv.2020.106741\",\n",
    "    \"10.1016/j.jobe.2023.106272\",\n",
    "    \"10.1016/j.autcon.2024.105823\",\n",
    "    \"10.1016/j.autcon.2020.103277\",\n",
    "    \"10.1016/j.enbuild.2023.113291\",\n",
    "    \"10.1016/j.aei.2023.102239\",\n",
    "    \"10.1016/j.buildenv.2023.110595\",\n",
    "    \"10.1016/j.buildenv.2020.106741\"\n",
    "]\n",
    "\n",
    "# Get the articles that were mistakenly removed\n",
    "misexcluded_articles = main_df[main_df['DOI'].isin(misexcluded_dois)]\n",
    "\n",
    "# Add them back to the filtered list\n",
    "final_df = pd.concat([filtered_df, misexcluded_articles])\n",
    "final_df = final_df.drop_duplicates(subset='DOI')  # Remove any duplicates\n",
    "\n",
    "# Save results\n",
    "final_df.to_csv(\"papers_included_filtered.csv\", index=False)\n",
    "\n",
    "# Show summary\n",
    "print(f\"\\nOriginal: {len(main_df)} articles\")\n",
    "print(f\"Removed: {len(remove_df)} articles\")\n",
    "print(f\"Mistakenly excluded: {len(misexcluded_articles)} articles\")\n",
    "print(f\"Final after patch: {len(final_df)} articles\")\n",
    "print(\"Saved: 'papers_included_filtered.csv' and 'removed_articles.csv'\")"
   ]
  },
  {
   "cell_type": "code",
   "execution_count": null,
   "id": "c0e1188a",
   "metadata": {},
   "outputs": [],
   "source": []
  }
 ],
 "metadata": {
  "kernelspec": {
   "display_name": "eplus_env",
   "language": "python",
   "name": "python3"
  },
  "language_info": {
   "codemirror_mode": {
    "name": "ipython",
    "version": 3
   },
   "file_extension": ".py",
   "mimetype": "text/x-python",
   "name": "python",
   "nbconvert_exporter": "python",
   "pygments_lexer": "ipython3",
   "version": "3.10.17"
  }
 },
 "nbformat": 4,
 "nbformat_minor": 5
}
