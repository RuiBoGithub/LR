{
 "cells": [
  {
   "cell_type": "code",
   "execution_count": 7,
   "id": "c5f7cb68",
   "metadata": {},
   "outputs": [],
   "source": [
    "import pandas as pd\n",
    "\n",
    "# Load CSV\n",
    "df = pd.read_csv(\"fetching_1.csv\")\n",
    "\n",
    "filtered = df[\n",
    "    df[\"Title\"].str.contains(\"performance gap\", case=False, na=False)\n",
    "    & ~df[\"Title\"].str.contains(\"review\", case=False, na=False)\n",
    "]\n",
    "\n",
    "df_output = filtered[[\"DOI\", \"Year\", \"Title\", \"Journal\"]]\n",
    "df_output.to_csv(\"filtered_output.csv\", index=False)"
   ]
  }
 ],
 "metadata": {
  "kernelspec": {
   "display_name": "eplus_env",
   "language": "python",
   "name": "python3"
  },
  "language_info": {
   "codemirror_mode": {
    "name": "ipython",
    "version": 3
   },
   "file_extension": ".py",
   "mimetype": "text/x-python",
   "name": "python",
   "nbconvert_exporter": "python",
   "pygments_lexer": "ipython3",
   "version": "3.10.4"
  }
 },
 "nbformat": 4,
 "nbformat_minor": 5
}
